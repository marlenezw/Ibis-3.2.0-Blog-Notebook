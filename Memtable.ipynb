{
 "cells": [
  {
   "cell_type": "markdown",
   "id": "9a817c72",
   "metadata": {},
   "source": [
    "# An introduction to Memtable in Ibis "
   ]
  },
  {
   "cell_type": "code",
   "execution_count": 4,
   "id": "18e3e524",
   "metadata": {},
   "outputs": [],
   "source": [
    "import ibis\n",
    "import pandas as pd\n",
    "import numpy as np"
   ]
  },
  {
   "cell_type": "markdown",
   "id": "9497c60d",
   "metadata": {},
   "source": [
    "## Working with pandas dataframes in Ibis "
   ]
  },
  {
   "cell_type": "markdown",
   "id": "565779f4",
   "metadata": {},
   "source": [
    "read in data from February 2009 from the New York City Taxi data set"
   ]
  },
  {
   "cell_type": "code",
   "execution_count": 5,
   "id": "858956e9",
   "metadata": {},
   "outputs": [],
   "source": [
    "df = pd.read_csv('yellow_tripdata_2009-02.csv')"
   ]
  },
  {
   "cell_type": "code",
   "execution_count": 6,
   "id": "ac660c6a",
   "metadata": {},
   "outputs": [
    {
     "data": {
      "text/html": [
       "<div>\n",
       "<style scoped>\n",
       "    .dataframe tbody tr th:only-of-type {\n",
       "        vertical-align: middle;\n",
       "    }\n",
       "\n",
       "    .dataframe tbody tr th {\n",
       "        vertical-align: top;\n",
       "    }\n",
       "\n",
       "    .dataframe thead th {\n",
       "        text-align: right;\n",
       "    }\n",
       "</style>\n",
       "<table border=\"1\" class=\"dataframe\">\n",
       "  <thead>\n",
       "    <tr style=\"text-align: right;\">\n",
       "      <th></th>\n",
       "      <th>vendor_name</th>\n",
       "      <th>Trip_Pickup_DateTime</th>\n",
       "      <th>Trip_Dropoff_DateTime</th>\n",
       "      <th>Passenger_Count</th>\n",
       "      <th>Trip_Distance</th>\n",
       "      <th>Start_Lon</th>\n",
       "      <th>Start_Lat</th>\n",
       "      <th>Rate_Code</th>\n",
       "      <th>store_and_forward</th>\n",
       "      <th>End_Lon</th>\n",
       "      <th>End_Lat</th>\n",
       "      <th>Payment_Type</th>\n",
       "      <th>Fare_Amt</th>\n",
       "      <th>surcharge</th>\n",
       "      <th>mta_tax</th>\n",
       "      <th>Tip_Amt</th>\n",
       "      <th>Tolls_Amt</th>\n",
       "      <th>Total_Amt</th>\n",
       "    </tr>\n",
       "  </thead>\n",
       "  <tbody>\n",
       "    <tr>\n",
       "      <th>0</th>\n",
       "      <td>DDS</td>\n",
       "      <td>2009-02-03 08:25:00</td>\n",
       "      <td>2009-02-03 08:33:39</td>\n",
       "      <td>1.0</td>\n",
       "      <td>1.60</td>\n",
       "      <td>-73.992768</td>\n",
       "      <td>40.758325</td>\n",
       "      <td>NaN</td>\n",
       "      <td>NaN</td>\n",
       "      <td>-73.994710</td>\n",
       "      <td>40.739723</td>\n",
       "      <td>CASH</td>\n",
       "      <td>6.9</td>\n",
       "      <td>0.0</td>\n",
       "      <td>NaN</td>\n",
       "      <td>0.0</td>\n",
       "      <td>0.0</td>\n",
       "      <td>6.9</td>\n",
       "    </tr>\n",
       "    <tr>\n",
       "      <th>1</th>\n",
       "      <td>VTS</td>\n",
       "      <td>2009-02-28 00:26:00</td>\n",
       "      <td>2009-02-28 00:40:00</td>\n",
       "      <td>5.0</td>\n",
       "      <td>3.05</td>\n",
       "      <td>0.000000</td>\n",
       "      <td>0.000000</td>\n",
       "      <td>NaN</td>\n",
       "      <td>NaN</td>\n",
       "      <td>0.000000</td>\n",
       "      <td>0.000000</td>\n",
       "      <td>CASH</td>\n",
       "      <td>10.5</td>\n",
       "      <td>0.5</td>\n",
       "      <td>NaN</td>\n",
       "      <td>0.0</td>\n",
       "      <td>0.0</td>\n",
       "      <td>11.0</td>\n",
       "    </tr>\n",
       "    <tr>\n",
       "      <th>2</th>\n",
       "      <td>DDS</td>\n",
       "      <td>2009-02-22 00:39:23</td>\n",
       "      <td>2009-02-22 00:45:52</td>\n",
       "      <td>1.0</td>\n",
       "      <td>1.50</td>\n",
       "      <td>-73.137393</td>\n",
       "      <td>41.366138</td>\n",
       "      <td>NaN</td>\n",
       "      <td>NaN</td>\n",
       "      <td>-73.137393</td>\n",
       "      <td>41.366138</td>\n",
       "      <td>CASH</td>\n",
       "      <td>5.7</td>\n",
       "      <td>0.5</td>\n",
       "      <td>NaN</td>\n",
       "      <td>0.0</td>\n",
       "      <td>0.0</td>\n",
       "      <td>6.2</td>\n",
       "    </tr>\n",
       "    <tr>\n",
       "      <th>3</th>\n",
       "      <td>VTS</td>\n",
       "      <td>2009-02-28 12:47:00</td>\n",
       "      <td>2009-02-28 12:54:00</td>\n",
       "      <td>1.0</td>\n",
       "      <td>1.42</td>\n",
       "      <td>-73.980458</td>\n",
       "      <td>40.748445</td>\n",
       "      <td>NaN</td>\n",
       "      <td>NaN</td>\n",
       "      <td>-73.996103</td>\n",
       "      <td>40.737095</td>\n",
       "      <td>CASH</td>\n",
       "      <td>6.1</td>\n",
       "      <td>0.0</td>\n",
       "      <td>NaN</td>\n",
       "      <td>0.0</td>\n",
       "      <td>0.0</td>\n",
       "      <td>6.1</td>\n",
       "    </tr>\n",
       "    <tr>\n",
       "      <th>4</th>\n",
       "      <td>DDS</td>\n",
       "      <td>2009-02-05 18:34:35</td>\n",
       "      <td>2009-02-05 18:43:26</td>\n",
       "      <td>1.0</td>\n",
       "      <td>1.50</td>\n",
       "      <td>-73.137393</td>\n",
       "      <td>41.366138</td>\n",
       "      <td>NaN</td>\n",
       "      <td>NaN</td>\n",
       "      <td>-73.137393</td>\n",
       "      <td>41.366138</td>\n",
       "      <td>CASH</td>\n",
       "      <td>6.9</td>\n",
       "      <td>1.0</td>\n",
       "      <td>NaN</td>\n",
       "      <td>0.0</td>\n",
       "      <td>0.0</td>\n",
       "      <td>7.9</td>\n",
       "    </tr>\n",
       "  </tbody>\n",
       "</table>\n",
       "</div>"
      ],
      "text/plain": [
       "  vendor_name Trip_Pickup_DateTime Trip_Dropoff_DateTime  Passenger_Count  \\\n",
       "0         DDS  2009-02-03 08:25:00   2009-02-03 08:33:39              1.0   \n",
       "1         VTS  2009-02-28 00:26:00   2009-02-28 00:40:00              5.0   \n",
       "2         DDS  2009-02-22 00:39:23   2009-02-22 00:45:52              1.0   \n",
       "3         VTS  2009-02-28 12:47:00   2009-02-28 12:54:00              1.0   \n",
       "4         DDS  2009-02-05 18:34:35   2009-02-05 18:43:26              1.0   \n",
       "\n",
       "   Trip_Distance  Start_Lon  Start_Lat  Rate_Code  store_and_forward  \\\n",
       "0           1.60 -73.992768  40.758325        NaN                NaN   \n",
       "1           3.05   0.000000   0.000000        NaN                NaN   \n",
       "2           1.50 -73.137393  41.366138        NaN                NaN   \n",
       "3           1.42 -73.980458  40.748445        NaN                NaN   \n",
       "4           1.50 -73.137393  41.366138        NaN                NaN   \n",
       "\n",
       "     End_Lon    End_Lat Payment_Type  Fare_Amt  surcharge  mta_tax  Tip_Amt  \\\n",
       "0 -73.994710  40.739723         CASH       6.9        0.0      NaN      0.0   \n",
       "1   0.000000   0.000000         CASH      10.5        0.5      NaN      0.0   \n",
       "2 -73.137393  41.366138         CASH       5.7        0.5      NaN      0.0   \n",
       "3 -73.996103  40.737095         CASH       6.1        0.0      NaN      0.0   \n",
       "4 -73.137393  41.366138         CASH       6.9        1.0      NaN      0.0   \n",
       "\n",
       "   Tolls_Amt  Total_Amt  \n",
       "0        0.0        6.9  \n",
       "1        0.0       11.0  \n",
       "2        0.0        6.2  \n",
       "3        0.0        6.1  \n",
       "4        0.0        7.9  "
      ]
     },
     "execution_count": 6,
     "metadata": {},
     "output_type": "execute_result"
    }
   ],
   "source": [
    "df.head()"
   ]
  },
  {
   "cell_type": "markdown",
   "id": "017f3c67",
   "metadata": {},
   "source": [
    "Set interactive mode to false to be able to see underlying details"
   ]
  },
  {
   "cell_type": "code",
   "execution_count": 7,
   "id": "7e03a0bc",
   "metadata": {},
   "outputs": [],
   "source": [
    "ibis.options.interactive = False"
   ]
  },
  {
   "cell_type": "markdown",
   "id": "43da34dc",
   "metadata": {},
   "source": [
    "Call memtable! "
   ]
  },
  {
   "cell_type": "code",
   "execution_count": 8,
   "id": "bc1ccb96",
   "metadata": {},
   "outputs": [
    {
     "data": {
      "text/plain": [
       "PandasInMemoryTable\n",
       "  data:\n",
       "    DataFrameProxy:\n",
       "              vendor_name Trip_Pickup_DateTime Trip_Dropoff_DateTime  \\\n",
       "      0               DDS  2009-02-03 08:25:00   2009-02-03 08:33:39   \n",
       "      1               VTS  2009-02-28 00:26:00   2009-02-28 00:40:00   \n",
       "      2               DDS  2009-02-22 00:39:23   2009-02-22 00:45:52   \n",
       "      3               VTS  2009-02-28 12:47:00   2009-02-28 12:54:00   \n",
       "      4               DDS  2009-02-05 18:34:35   2009-02-05 18:43:26   \n",
       "      ...             ...                  ...                   ...   \n",
       "      4723740         VTS  2009-02-25 06:36:00   2009-02-25 06:42:00   \n",
       "      4723741         VTS  2009-02-25 15:27:00   2009-02-25 15:34:00   \n",
       "      4723742         VTS  2009-02-22 09:57:00   2009-02-22 10:18:00   \n",
       "      4723743         VTS  2009-02-24 18:46:00   2009-02-24 19:05:00   \n",
       "      4723744         VTS                   20                   NaN   \n",
       "\n",
       "               Passenger_Count  Trip_Distance  Start_Lon  Start_Lat  Rate_Code  \\\n",
       "      0                    1.0           1.60 -73.992768  40.758325        NaN   \n",
       "      1                    5.0           3.05   0.000000   0.000000        NaN   \n",
       "      2                    1.0           1.50 -73.137393  41.366138        NaN   \n",
       "      3                    1.0           1.42 -73.980458  40.748445        NaN   \n",
       "      4                    1.0           1.50 -73.137393  41.366138        NaN   \n",
       "      ...                  ...            ...        ...        ...        ...   \n",
       "      4723740              1.0           0.64 -73.978390  40.752075        NaN   \n",
       "      4723741              1.0           0.91 -73.981198  40.752758        NaN   \n",
       "      4723742              1.0           8.24 -73.965823  40.805323        NaN   \n",
       "      4723743              3.0           3.87 -73.977197  40.754057        NaN   \n",
       "      4723744              NaN            NaN        NaN        NaN        NaN   \n",
       "\n",
       "               store_and_forward    End_Lon    End_Lat Payment_Type  Fare_Amt  \\\n",
       "      0                      NaN -73.994710  40.739723         CASH       6.9   \n",
       "      1                      NaN   0.000000   0.000000         CASH      10.5   \n",
       "      2                      NaN -73.137393  41.366138         CASH       5.7   \n",
       "      3                      NaN -73.996103  40.737095         CASH       6.1   \n",
       "      4                      NaN -73.137393  41.366138         CASH       6.9   \n",
       "      ...                    ...        ...        ...          ...       ...   \n",
       "      4723740                NaN -73.979542  40.750798         CASH       4.9   \n",
       "      4723741                NaN -73.982738  40.742218         CASH       5.7   \n",
       "      4723742                NaN -73.872995  40.774450         CASH      21.3   \n",
       "      4723743                NaN -74.010828  40.717655         CASH      12.5   \n",
       "      4723744                NaN        NaN        NaN          NaN       NaN   \n",
       "\n",
       "               surcharge  mta_tax  Tip_Amt  Tolls_Amt  Total_Amt  \n",
       "      0              0.0      NaN      0.0       0.00       6.90  \n",
       "      1              0.5      NaN      0.0       0.00      11.00  \n",
       "      2              0.5      NaN      0.0       0.00       6.20  \n",
       "      3              0.0      NaN      0.0       0.00       6.10  \n",
       "      4              1.0      NaN      0.0       0.00       7.90  \n",
       "      ...            ...      ...      ...        ...        ...  \n",
       "      4723740        0.0      NaN      0.0       0.00       4.90  \n",
       "      4723741        0.0      NaN      0.0       0.00       5.70  \n",
       "      4723742        0.0      NaN      0.0       4.15      25.45  \n",
       "      4723743        1.0      NaN      0.0       0.00      13.50  \n",
       "      4723744        NaN      NaN      NaN        NaN        NaN  \n",
       "\n",
       "      [4723745 rows x 18 columns]"
      ]
     },
     "execution_count": 8,
     "metadata": {},
     "output_type": "execute_result"
    }
   ],
   "source": [
    "ibis.memtable(df)"
   ]
  },
  {
   "cell_type": "markdown",
   "id": "f547bdb2",
   "metadata": {},
   "source": [
    "save the table to a variable, t, set interactive mode to true and view column names "
   ]
  },
  {
   "cell_type": "code",
   "execution_count": 9,
   "id": "581161aa",
   "metadata": {},
   "outputs": [
    {
     "data": {
      "text/plain": [
       "['vendor_name',\n",
       " 'Trip_Pickup_DateTime',\n",
       " 'Trip_Dropoff_DateTime',\n",
       " 'Passenger_Count',\n",
       " 'Trip_Distance',\n",
       " 'Start_Lon',\n",
       " 'Start_Lat',\n",
       " 'Rate_Code',\n",
       " 'store_and_forward',\n",
       " 'End_Lon',\n",
       " 'End_Lat',\n",
       " 'Payment_Type',\n",
       " 'Fare_Amt',\n",
       " 'surcharge',\n",
       " 'mta_tax',\n",
       " 'Tip_Amt',\n",
       " 'Tolls_Amt',\n",
       " 'Total_Amt']"
      ]
     },
     "execution_count": 9,
     "metadata": {},
     "output_type": "execute_result"
    }
   ],
   "source": [
    "t = ibis.memtable(df)\n",
    "ibis.options.interactive = True\n",
    "t.columns"
   ]
  },
  {
   "cell_type": "markdown",
   "id": "03383ac6",
   "metadata": {},
   "source": [
    "count the number of vendors listed "
   ]
  },
  {
   "cell_type": "code",
   "execution_count": 10,
   "id": "bcb70c15",
   "metadata": {},
   "outputs": [
    {
     "data": {
      "text/plain": [
       "4723745"
      ]
     },
     "execution_count": 10,
     "metadata": {},
     "output_type": "execute_result"
    }
   ],
   "source": [
    "t.vendor_name.count()"
   ]
  },
  {
   "cell_type": "markdown",
   "id": "7e1ea926",
   "metadata": {},
   "source": [
    "Examine the SQL code being run by DuckDB when we find the sum of the surcharge "
   ]
  },
  {
   "cell_type": "code",
   "execution_count": 11,
   "id": "9f66327c",
   "metadata": {},
   "outputs": [
    {
     "data": {
      "text/plain": [
       "849724.0"
      ]
     },
     "execution_count": 11,
     "metadata": {},
     "output_type": "execute_result"
    }
   ],
   "source": [
    "t.surcharge.sum()"
   ]
  },
  {
   "cell_type": "code",
   "execution_count": 12,
   "id": "e29d69c1",
   "metadata": {},
   "outputs": [
    {
     "name": "stdout",
     "output_type": "stream",
     "text": [
      "SELECT\n",
      "  SUM(t0.surcharge) AS sum\n",
      "FROM _ibis_memtable1 AS t0\n"
     ]
    }
   ],
   "source": [
    "ibis.show_sql(t.surcharge.sum())"
   ]
  },
  {
   "cell_type": "markdown",
   "id": "16d109ab",
   "metadata": {},
   "source": [
    "## Performance gains"
   ]
  },
  {
   "cell_type": "markdown",
   "id": "32ca2971",
   "metadata": {},
   "source": [
    "Create a pandas dataframe with 100000 rows "
   ]
  },
  {
   "cell_type": "code",
   "execution_count": 13,
   "id": "f47e9781",
   "metadata": {},
   "outputs": [],
   "source": [
    "df_large = pd.DataFrame({\"a\": np.random.randn(int(1e8)), \"b\": ['a','b'] * int(1e8 // 2)}).astype({\"b\": \"string\"})"
   ]
  },
  {
   "cell_type": "code",
   "execution_count": 14,
   "id": "2647aac1",
   "metadata": {},
   "outputs": [
    {
     "data": {
      "text/html": [
       "<div>\n",
       "<style scoped>\n",
       "    .dataframe tbody tr th:only-of-type {\n",
       "        vertical-align: middle;\n",
       "    }\n",
       "\n",
       "    .dataframe tbody tr th {\n",
       "        vertical-align: top;\n",
       "    }\n",
       "\n",
       "    .dataframe thead th {\n",
       "        text-align: right;\n",
       "    }\n",
       "</style>\n",
       "<table border=\"1\" class=\"dataframe\">\n",
       "  <thead>\n",
       "    <tr style=\"text-align: right;\">\n",
       "      <th></th>\n",
       "      <th>a</th>\n",
       "      <th>b</th>\n",
       "    </tr>\n",
       "  </thead>\n",
       "  <tbody>\n",
       "    <tr>\n",
       "      <th>0</th>\n",
       "      <td>0.357165</td>\n",
       "      <td>a</td>\n",
       "    </tr>\n",
       "    <tr>\n",
       "      <th>1</th>\n",
       "      <td>0.078334</td>\n",
       "      <td>b</td>\n",
       "    </tr>\n",
       "    <tr>\n",
       "      <th>2</th>\n",
       "      <td>0.380782</td>\n",
       "      <td>a</td>\n",
       "    </tr>\n",
       "    <tr>\n",
       "      <th>3</th>\n",
       "      <td>-0.531058</td>\n",
       "      <td>b</td>\n",
       "    </tr>\n",
       "    <tr>\n",
       "      <th>4</th>\n",
       "      <td>-0.082034</td>\n",
       "      <td>a</td>\n",
       "    </tr>\n",
       "  </tbody>\n",
       "</table>\n",
       "</div>"
      ],
      "text/plain": [
       "          a  b\n",
       "0  0.357165  a\n",
       "1  0.078334  b\n",
       "2  0.380782  a\n",
       "3 -0.531058  b\n",
       "4 -0.082034  a"
      ]
     },
     "execution_count": 14,
     "metadata": {},
     "output_type": "execute_result"
    }
   ],
   "source": [
    "df_large.head()"
   ]
  },
  {
   "cell_type": "markdown",
   "id": "e3ed9326",
   "metadata": {},
   "source": [
    "Time pandas when calling the value counts operation"
   ]
  },
  {
   "cell_type": "code",
   "execution_count": 15,
   "id": "1f796b2b",
   "metadata": {},
   "outputs": [
    {
     "name": "stdout",
     "output_type": "stream",
     "text": [
      "CPU times: user 1.91 s, sys: 30.6 ms, total: 1.94 s\n",
      "Wall time: 1.94 s\n"
     ]
    },
    {
     "data": {
      "text/plain": [
       "a    50000000\n",
       "b    50000000\n",
       "Name: b, dtype: Int64"
      ]
     },
     "execution_count": 15,
     "metadata": {},
     "output_type": "execute_result"
    }
   ],
   "source": [
    "%time df_large.b.value_counts()"
   ]
  },
  {
   "cell_type": "markdown",
   "id": "01971822",
   "metadata": {},
   "source": [
    "Change dataframe to ibis expression"
   ]
  },
  {
   "cell_type": "code",
   "execution_count": 16,
   "id": "fa4549b1",
   "metadata": {},
   "outputs": [],
   "source": [
    "t_large = ibis.memtable(df_large)"
   ]
  },
  {
   "cell_type": "markdown",
   "id": "28167aac",
   "metadata": {},
   "source": [
    "Time Ibis when calling the value counts operation"
   ]
  },
  {
   "cell_type": "code",
   "execution_count": 17,
   "id": "c0b40854",
   "metadata": {},
   "outputs": [
    {
     "name": "stdout",
     "output_type": "stream",
     "text": [
      "CPU times: user 1.83 s, sys: 24.3 ms, total: 1.85 s\n",
      "Wall time: 275 ms\n"
     ]
    },
    {
     "data": {
      "text/html": [
       "<div>\n",
       "<style scoped>\n",
       "    .dataframe tbody tr th:only-of-type {\n",
       "        vertical-align: middle;\n",
       "    }\n",
       "\n",
       "    .dataframe tbody tr th {\n",
       "        vertical-align: top;\n",
       "    }\n",
       "\n",
       "    .dataframe thead th {\n",
       "        text-align: right;\n",
       "    }\n",
       "</style>\n",
       "<table border=\"1\" class=\"dataframe\">\n",
       "  <thead>\n",
       "    <tr style=\"text-align: right;\">\n",
       "      <th></th>\n",
       "      <th>b</th>\n",
       "      <th>count</th>\n",
       "    </tr>\n",
       "  </thead>\n",
       "  <tbody>\n",
       "    <tr>\n",
       "      <th>0</th>\n",
       "      <td>a</td>\n",
       "      <td>50000000</td>\n",
       "    </tr>\n",
       "    <tr>\n",
       "      <th>1</th>\n",
       "      <td>b</td>\n",
       "      <td>50000000</td>\n",
       "    </tr>\n",
       "  </tbody>\n",
       "</table>\n",
       "</div>"
      ],
      "text/plain": [
       "   b     count\n",
       "0  a  50000000\n",
       "1  b  50000000"
      ]
     },
     "execution_count": 17,
     "metadata": {},
     "output_type": "execute_result"
    }
   ],
   "source": [
    "%time t_large.b.value_counts().execute()"
   ]
  },
  {
   "cell_type": "markdown",
   "id": "7d197b17",
   "metadata": {},
   "source": [
    "How much faster is Ibis? "
   ]
  },
  {
   "cell_type": "code",
   "execution_count": 18,
   "id": "6b763b73",
   "metadata": {},
   "outputs": [
    {
     "data": {
      "text/plain": [
       "7.054545454545455"
      ]
     },
     "execution_count": 18,
     "metadata": {},
     "output_type": "execute_result"
    }
   ],
   "source": [
    " 1.94*1e3/275"
   ]
  },
  {
   "cell_type": "markdown",
   "id": "c43937ae",
   "metadata": {},
   "source": [
    "Ibis is 7 times faster than pandas!"
   ]
  },
  {
   "cell_type": "code",
   "execution_count": null,
   "id": "cbfd64e7",
   "metadata": {},
   "outputs": [],
   "source": []
  }
 ],
 "metadata": {
  "kernelspec": {
   "display_name": "Python 3 (ipykernel)",
   "language": "python",
   "name": "python3"
  },
  "language_info": {
   "codemirror_mode": {
    "name": "ipython",
    "version": 3
   },
   "file_extension": ".py",
   "mimetype": "text/x-python",
   "name": "python",
   "nbconvert_exporter": "python",
   "pygments_lexer": "ipython3",
   "version": "3.9.13"
  },
  "toc": {
   "base_numbering": 1,
   "nav_menu": {},
   "number_sections": true,
   "sideBar": true,
   "skip_h1_title": false,
   "title_cell": "Table of Contents",
   "title_sidebar": "Contents",
   "toc_cell": false,
   "toc_position": {},
   "toc_section_display": true,
   "toc_window_display": false
  },
  "varInspector": {
   "cols": {
    "lenName": 16,
    "lenType": 16,
    "lenVar": 40
   },
   "kernels_config": {
    "python": {
     "delete_cmd_postfix": "",
     "delete_cmd_prefix": "del ",
     "library": "var_list.py",
     "varRefreshCmd": "print(var_dic_list())"
    },
    "r": {
     "delete_cmd_postfix": ") ",
     "delete_cmd_prefix": "rm(",
     "library": "var_list.r",
     "varRefreshCmd": "cat(var_dic_list()) "
    }
   },
   "types_to_exclude": [
    "module",
    "function",
    "builtin_function_or_method",
    "instance",
    "_Feature"
   ],
   "window_display": false
  }
 },
 "nbformat": 4,
 "nbformat_minor": 5
}
