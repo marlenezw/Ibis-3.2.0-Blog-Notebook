{
 "cells": [
  {
   "cell_type": "markdown",
   "id": "f2b339d4",
   "metadata": {},
   "source": [
    "# Working with nested data with Ibis Unpack"
   ]
  },
  {
   "cell_type": "code",
   "execution_count": null,
   "id": "35e20362",
   "metadata": {},
   "outputs": [],
   "source": [
    "import ibis"
   ]
  },
  {
   "cell_type": "markdown",
   "id": "9d0a7fa4",
   "metadata": {},
   "source": [
    "Creating an ibis table, column a contains a struct"
   ]
  },
  {
   "cell_type": "code",
   "execution_count": 2,
   "id": "96e2459a",
   "metadata": {},
   "outputs": [],
   "source": [
    "t = ibis.table(dict(a=\"struct<b: float, c: string>\", d=\"string\"), name=\"t\")"
   ]
  },
  {
   "cell_type": "code",
   "execution_count": 3,
   "id": "9e1fa708",
   "metadata": {},
   "outputs": [
    {
     "data": {
      "text/plain": [
       "UnboundTable: t\n",
       "  a struct<b: float64, c: string>\n",
       "  d string"
      ]
     },
     "execution_count": 3,
     "metadata": {},
     "output_type": "execute_result"
    }
   ],
   "source": [
    "t"
   ]
  },
  {
   "cell_type": "markdown",
   "id": "199b1f62",
   "metadata": {},
   "source": [
    "Calling upack"
   ]
  },
  {
   "cell_type": "code",
   "execution_count": 4,
   "id": "d3401ba8",
   "metadata": {},
   "outputs": [
    {
     "data": {
      "text/plain": [
       "r0 := UnboundTable: t\n",
       "  a struct<b: float64, c: string>\n",
       "  d string\n",
       "\n",
       "Selection[r0]\n",
       "  selections:\n",
       "    b: StructField(r0.a, field='b')\n",
       "    c: StructField(r0.a, field='c')\n",
       "    d: r0.d"
      ]
     },
     "execution_count": 4,
     "metadata": {},
     "output_type": "execute_result"
    }
   ],
   "source": [
    "t.unpack(\"a\")"
   ]
  },
  {
   "cell_type": "code",
   "execution_count": null,
   "id": "ad7c9b0c",
   "metadata": {},
   "outputs": [],
   "source": []
  }
 ],
 "metadata": {
  "kernelspec": {
   "display_name": "Python 3 (ipykernel)",
   "language": "python",
   "name": "python3"
  },
  "language_info": {
   "codemirror_mode": {
    "name": "ipython",
    "version": 3
   },
   "file_extension": ".py",
   "mimetype": "text/x-python",
   "name": "python",
   "nbconvert_exporter": "python",
   "pygments_lexer": "ipython3",
   "version": "3.9.13"
  },
  "toc": {
   "base_numbering": 1,
   "nav_menu": {},
   "number_sections": true,
   "sideBar": true,
   "skip_h1_title": false,
   "title_cell": "Table of Contents",
   "title_sidebar": "Contents",
   "toc_cell": false,
   "toc_position": {},
   "toc_section_display": true,
   "toc_window_display": false
  },
  "varInspector": {
   "cols": {
    "lenName": 16,
    "lenType": 16,
    "lenVar": 40
   },
   "kernels_config": {
    "python": {
     "delete_cmd_postfix": "",
     "delete_cmd_prefix": "del ",
     "library": "var_list.py",
     "varRefreshCmd": "print(var_dic_list())"
    },
    "r": {
     "delete_cmd_postfix": ") ",
     "delete_cmd_prefix": "rm(",
     "library": "var_list.r",
     "varRefreshCmd": "cat(var_dic_list()) "
    }
   },
   "types_to_exclude": [
    "module",
    "function",
    "builtin_function_or_method",
    "instance",
    "_Feature"
   ],
   "window_display": false
  }
 },
 "nbformat": 4,
 "nbformat_minor": 5
}
